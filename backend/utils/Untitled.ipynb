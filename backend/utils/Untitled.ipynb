{
 "cells": [
  {
   "cell_type": "code",
   "execution_count": 1,
   "id": "eef3fce4-287f-45e9-83c9-a0df2e4078d5",
   "metadata": {},
   "outputs": [],
   "source": [
    "from extract import *\n",
    "import json\n",
    "import time"
   ]
  },
  {
   "cell_type": "code",
   "execution_count": 3,
   "id": "9e83bbe8-3aaf-4143-ad50-9328a27c33b0",
   "metadata": {},
   "outputs": [
    {
     "name": "stdout",
     "output_type": "stream",
     "text": [
      "Getting info takes 4.485415935516357 seconds\n"
     ]
    }
   ],
   "source": [
    "query = \"Winston Churchil\"\n",
    "start = time.time()\n",
    "info = get_info(query)\n",
    "end = time.time()\n",
    "print(f\"Getting info takes {end - start} seconds\")"
   ]
  },
  {
   "cell_type": "code",
   "execution_count": 10,
   "id": "a5ef9f43-2ca7-4a98-8199-db3a5d9aa093",
   "metadata": {},
   "outputs": [],
   "source": [
    "with open(\"test.json\",\"w\") as file:\n",
    "    json.dump(info,file)"
   ]
  },
  {
   "cell_type": "code",
   "execution_count": 7,
   "id": "2b14e7a4-317b-4c26-a709-ca302488a2aa",
   "metadata": {},
   "outputs": [
    {
     "data": {
      "text/plain": [
       "{'WinstonChurchill': 'https://www.reddit.com/r/WinstonChurchill'}"
      ]
     },
     "execution_count": 7,
     "metadata": {},
     "output_type": "execute_result"
    }
   ],
   "source": [
    "get_relevant_subreddits(\"Winston Churchil\")"
   ]
  },
  {
   "cell_type": "code",
   "execution_count": 3,
   "id": "bb342abd-bf1d-4ae9-82f7-f57c56dfd305",
   "metadata": {},
   "outputs": [
    {
     "name": "stdout",
     "output_type": "stream",
     "text": [
      "Getting info takes 0.6288323402404785 seconds\n"
     ]
    }
   ],
   "source": [
    "start = time.time()\n",
    "page = get_page(\"Winston_Churchil\")\n",
    "end = time.time()\n",
    "print(f\"Getting info takes {end - start} seconds\")"
   ]
  },
  {
   "cell_type": "code",
   "execution_count": 4,
   "id": "9cb842f6-e51d-4c4b-a40f-e188706b85fc",
   "metadata": {},
   "outputs": [
    {
     "name": "stdout",
     "output_type": "stream",
     "text": [
      "Getting info takes 0.35228562355041504 seconds\n"
     ]
    }
   ],
   "source": [
    "start = time.time()\n",
    "wiki = search_wikipedia(query)[0]\n",
    "end = time.time()\n",
    "print(f\"Getting info takes {end - start} seconds\")"
   ]
  },
  {
   "cell_type": "code",
   "execution_count": 5,
   "id": "e68d1353-3b7a-4402-8401-47148fce808d",
   "metadata": {},
   "outputs": [
    {
     "name": "stdout",
     "output_type": "stream",
     "text": [
      "Getting info takes 2.1040449142456055 seconds\n"
     ]
    }
   ],
   "source": [
    "start = time.time()\n",
    "get_relevant_pages(page, \"person\")\n",
    "end = time.time()\n",
    "print(f\"Getting info takes {end - start} seconds\")"
   ]
  },
  {
   "cell_type": "code",
   "execution_count": 13,
   "id": "6b2f4b2d-3daa-4f6b-b57c-9c603d4b9fb0",
   "metadata": {},
   "outputs": [
    {
     "name": "stdout",
     "output_type": "stream",
     "text": [
      "Getting info takes 1.2101542949676514 seconds\n"
     ]
    }
   ],
   "source": [
    "start = time.time()\n",
    "reddits = get_relevant_subreddits(wiki[\"title\"].replace(\"_\",\" \"))\n",
    "end = time.time()\n",
    "print(f\"Getting info takes {end - start} seconds\")"
   ]
  },
  {
   "cell_type": "code",
   "execution_count": 4,
   "id": "db35bd6b-442f-41d8-b432-0d18242bd049",
   "metadata": {},
   "outputs": [
    {
     "data": {
      "text/plain": [
       "array({1, 3, 4}, dtype=object)"
      ]
     },
     "execution_count": 4,
     "metadata": {},
     "output_type": "execute_result"
    }
   ],
   "source": [
    "np.array(set([1,3,4]))"
   ]
  },
  {
   "cell_type": "code",
   "execution_count": 5,
   "id": "98e01c10-97a2-4682-80dd-9795c1260aa0",
   "metadata": {},
   "outputs": [
    {
     "name": "stdout",
     "output_type": "stream",
     "text": [
      "Getting info takes 5.5255701541900635 seconds\n"
     ]
    }
   ],
   "source": [
    "query = \"Winston Churchil\"\n",
    "start = time.time()  \n",
    "category = get_type(query)\n",
    "wiki = search_wikipedia(query)[0]\n",
    "    \n",
    "\n",
    "title = wiki[\"title\"]\n",
    "\n",
    "pageid = wiki[\"pageid\"]\n",
    "    \n",
    "images = get_wikipedia_images(pageid, None)\n",
    "\n",
    "\n",
    "page = get_page(title)\n",
    "links = get_relevant_pages(page, category)\n",
    "\n",
    "page_dict = {\n",
    "        'title': page.title,\n",
    "        'summary': page.summary,\n",
    "        'links': links,\n",
    "        'sections': [{'title': section.title, 'text': section.text} for section in page.sections \n",
    "                     if section.text != \"\" and section.title not in [\"See also\",\"External links\"]],\n",
    "    }\n",
    "  \n",
    "if category == \"person\":\n",
    "    infobox = get_infobox(title)\n",
    "else:\n",
    "    infobox = {}\n",
    "end = time.time()\n",
    "print(f\"Getting info takes {end - start} seconds\")"
   ]
  },
  {
   "cell_type": "code",
   "execution_count": null,
   "id": "d20015ff-1cb6-40fa-95ee-defe2d23ec95",
   "metadata": {},
   "outputs": [],
   "source": []
  }
 ],
 "metadata": {
  "kernelspec": {
   "display_name": "Python 3 (ipykernel)",
   "language": "python",
   "name": "python3"
  },
  "language_info": {
   "codemirror_mode": {
    "name": "ipython",
    "version": 3
   },
   "file_extension": ".py",
   "mimetype": "text/x-python",
   "name": "python",
   "nbconvert_exporter": "python",
   "pygments_lexer": "ipython3",
   "version": "3.10.12"
  }
 },
 "nbformat": 4,
 "nbformat_minor": 5
}
